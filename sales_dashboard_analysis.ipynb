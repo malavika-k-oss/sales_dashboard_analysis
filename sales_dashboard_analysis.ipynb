{
 "cells": [
  {
   "cell_type": "markdown",
   "id": "d0d275a7",
   "metadata": {},
   "source": [
    "# 📊 Sales Dashboard Analysis\n",
    "This project analyzes sales data using Python libraries such as pandas, matplotlib, and seaborn."
   ]
  },
  {
   "cell_type": "code",
   "execution_count": null,
   "id": "4128ee26",
   "metadata": {},
   "outputs": [],
   "source": [
    "# Step 1: Import Libraries\n",
    "import pandas as pd\n",
    "import matplotlib.pyplot as plt\n",
    "import seaborn as sns\n",
    "\n",
    "# Optional: Show plots inside notebook\n",
    "%matplotlib inline\n",
    "sns.set(style=\"whitegrid\")\n"
   ]
  },
  {
   "cell_type": "code",
   "execution_count": null,
   "id": "8bb81f9a",
   "metadata": {},
   "outputs": [],
   "source": [
    "# Step 2: Load Data\n",
    "df = pd.read_csv(\"sales_data.csv\")  # Make sure this CSV is uploaded in Colab\n",
    "df.head()"
   ]
  },
  {
   "cell_type": "code",
   "execution_count": null,
   "id": "3d5a2b14",
   "metadata": {},
   "outputs": [],
   "source": [
    "# Step 3: Basic Summary\n",
    "print(\"Data Info:\")\n",
    "print(df.info())\n",
    "print(\"\\nSummary Stats:\")\n",
    "print(df.describe())"
   ]
  },
  {
   "cell_type": "code",
   "execution_count": null,
   "id": "73d5017a",
   "metadata": {},
   "outputs": [],
   "source": [
    "# Step 4: Total Revenue by Region\n",
    "region_sales = df.groupby(\"Region\")[\"Total Revenue\"].sum().sort_values(ascending=False)\n",
    "region_sales.plot(kind=\"bar\", title=\"Total Revenue by Region\", figsize=(8,5), color='skyblue')\n",
    "plt.ylabel(\"Revenue\")\n",
    "plt.xlabel(\"Region\")\n",
    "plt.show()"
   ]
  },
  {
   "cell_type": "code",
   "execution_count": null,
   "id": "e9c3e22e",
   "metadata": {},
   "outputs": [],
   "source": [
    "# Step 5: Monthly Sales Trend\n",
    "df['Date'] = pd.to_datetime(df['Date'])\n",
    "df['Month'] = df['Date'].dt.to_period('M')\n",
    "monthly_sales = df.groupby('Month')['Total Revenue'].sum()\n",
    "monthly_sales.plot(kind='line', marker='o', title=\"Monthly Sales Trend\", figsize=(10,5))\n",
    "plt.ylabel(\"Revenue\")\n",
    "plt.xlabel(\"Month\")\n",
    "plt.xticks(rotation=45)\n",
    "plt.show()"
   ]
  },
  {
   "cell_type": "code",
   "execution_count": null,
   "id": "6f482b67",
   "metadata": {},
   "outputs": [],
   "source": [
    "# Step 6: Top Selling Products\n",
    "product_sales = df.groupby(\"Product\")[\"Units Sold\"].sum().sort_values(ascending=False)\n",
    "sns.barplot(x=product_sales.values, y=product_sales.index, palette=\"viridis\")\n",
    "plt.title(\"Top Selling Products by Units Sold\")\n",
    "plt.xlabel(\"Units Sold\")\n",
    "plt.ylabel(\"Product\")\n",
    "plt.show()"
   ]
  },
  {
   "cell_type": "markdown",
   "id": "99b8075e",
   "metadata": {},
   "source": [
    "### ✅ Done! You can now add this to your GitHub or export as PDF/HTML for your resume."
   ]
  }
 ],
 "metadata": {},
 "nbformat": 4,
 "nbformat_minor": 5
}
